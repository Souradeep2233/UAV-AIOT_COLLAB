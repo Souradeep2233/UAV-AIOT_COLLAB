{
  "nbformat": 4,
  "nbformat_minor": 0,
  "metadata": {
    "colab": {
      "provenance": []
    },
    "kernelspec": {
      "name": "python3",
      "display_name": "Python 3"
    },
    "language_info": {
      "name": "python"
    }
  },
  "cells": [
    {
      "cell_type": "code",
      "execution_count": null,
      "metadata": {
        "id": "yCe3B7SHwQ-H"
      },
      "outputs": [],
      "source": [
        "import pandas as pd,numpy as np \n",
        "import matplotlib.pyplot as plt\n",
        "import seaborn as sns"
      ]
    },
    {
      "cell_type": "code",
      "source": [
        "!git clone https://github.com/Souradeep2233/UAV-AIOT_COLLAB.git\n"
      ],
      "metadata": {
        "colab": {
          "base_uri": "https://localhost:8080/"
        },
        "id": "_uOuQiRKJARe",
        "outputId": "7ce8ef7a-8f61-4b4e-afd9-d9d1e79c6f3b"
      },
      "execution_count": null,
      "outputs": [
        {
          "output_type": "stream",
          "name": "stdout",
          "text": [
            "Cloning into 'UAV-AIOT_COLLAB'...\n",
            "fatal: could not read Username for 'https://github.com': No such device or address\n"
          ]
        }
      ]
    },
    {
      "cell_type": "code",
      "source": [
        "data=pd.read_csv(\"/content/cleaned_dataset.csv\")\n",
        "data"
      ],
      "metadata": {
        "colab": {
          "base_uri": "https://localhost:8080/",
          "height": 467
        },
        "id": "ZdjVzNx71YdA",
        "outputId": "b900aa47-a7a1-4f91-ff68-f41143da8390"
      },
      "execution_count": null,
      "outputs": [
        {
          "output_type": "execute_result",
          "data": {
            "text/plain": [
              "     tempmax  tempmin  temp  feelslikemax  feelslikemin  feelslike   dew  \\\n",
              "0       23.0     16.0  19.1          23.0          16.0       19.1  15.1   \n",
              "1       23.0     14.0  17.9          23.0          14.0       17.9  14.6   \n",
              "2       24.0     14.0  18.4          24.0          14.0       18.4  14.1   \n",
              "3       23.0     13.0  17.6          23.0          13.0       17.6  13.4   \n",
              "4       24.0     13.0  17.9          24.0          13.0       17.9  13.0   \n",
              "..       ...      ...   ...           ...           ...        ...   ...   \n",
              "390     26.0     16.0  21.3          26.0          16.0       21.3  18.2   \n",
              "391     26.0     17.8  21.1          26.0          17.8       21.1  17.3   \n",
              "392     25.0     18.0  20.7          25.0          18.0       20.7  17.2   \n",
              "393     23.0     17.0  19.4          23.0          17.0       19.4  17.4   \n",
              "394     24.0     15.0  19.7          24.0          15.0       19.7  16.4   \n",
              "\n",
              "     humidity  precip  precipprob  precipcover  sealevelpressure conditions  \n",
              "0        79.3   0.000         0.0         0.00            1018.6      Clear  \n",
              "1        82.3   0.000         0.0         0.00            1017.3     cloudy  \n",
              "2        77.6   0.000         0.0         0.00            1015.9      Clear  \n",
              "3        78.0   0.000         0.0         0.00            1016.6      Clear  \n",
              "4        75.7   0.000         0.0         0.00            1015.8      Clear  \n",
              "..        ...     ...         ...          ...               ...        ...  \n",
              "390      83.5   0.000         0.0         0.00            1017.0     cloudy  \n",
              "391      79.9   0.000         0.0         0.00            1016.4     cloudy  \n",
              "392      81.4   0.000         0.0         0.00            1016.5     cloudy  \n",
              "393      88.3   0.988       100.0         4.17            1018.9      rainy  \n",
              "394      82.2   0.000         0.0         0.00            1019.4      Clear  \n",
              "\n",
              "[395 rows x 13 columns]"
            ],
            "text/html": [
              "\n",
              "  <div id=\"df-e87343aa-0434-429d-9e73-593362c0a3df\">\n",
              "    <div class=\"colab-df-container\">\n",
              "      <div>\n",
              "<style scoped>\n",
              "    .dataframe tbody tr th:only-of-type {\n",
              "        vertical-align: middle;\n",
              "    }\n",
              "\n",
              "    .dataframe tbody tr th {\n",
              "        vertical-align: top;\n",
              "    }\n",
              "\n",
              "    .dataframe thead th {\n",
              "        text-align: right;\n",
              "    }\n",
              "</style>\n",
              "<table border=\"1\" class=\"dataframe\">\n",
              "  <thead>\n",
              "    <tr style=\"text-align: right;\">\n",
              "      <th></th>\n",
              "      <th>tempmax</th>\n",
              "      <th>tempmin</th>\n",
              "      <th>temp</th>\n",
              "      <th>feelslikemax</th>\n",
              "      <th>feelslikemin</th>\n",
              "      <th>feelslike</th>\n",
              "      <th>dew</th>\n",
              "      <th>humidity</th>\n",
              "      <th>precip</th>\n",
              "      <th>precipprob</th>\n",
              "      <th>precipcover</th>\n",
              "      <th>sealevelpressure</th>\n",
              "      <th>conditions</th>\n",
              "    </tr>\n",
              "  </thead>\n",
              "  <tbody>\n",
              "    <tr>\n",
              "      <th>0</th>\n",
              "      <td>23.0</td>\n",
              "      <td>16.0</td>\n",
              "      <td>19.1</td>\n",
              "      <td>23.0</td>\n",
              "      <td>16.0</td>\n",
              "      <td>19.1</td>\n",
              "      <td>15.1</td>\n",
              "      <td>79.3</td>\n",
              "      <td>0.000</td>\n",
              "      <td>0.0</td>\n",
              "      <td>0.00</td>\n",
              "      <td>1018.6</td>\n",
              "      <td>Clear</td>\n",
              "    </tr>\n",
              "    <tr>\n",
              "      <th>1</th>\n",
              "      <td>23.0</td>\n",
              "      <td>14.0</td>\n",
              "      <td>17.9</td>\n",
              "      <td>23.0</td>\n",
              "      <td>14.0</td>\n",
              "      <td>17.9</td>\n",
              "      <td>14.6</td>\n",
              "      <td>82.3</td>\n",
              "      <td>0.000</td>\n",
              "      <td>0.0</td>\n",
              "      <td>0.00</td>\n",
              "      <td>1017.3</td>\n",
              "      <td>cloudy</td>\n",
              "    </tr>\n",
              "    <tr>\n",
              "      <th>2</th>\n",
              "      <td>24.0</td>\n",
              "      <td>14.0</td>\n",
              "      <td>18.4</td>\n",
              "      <td>24.0</td>\n",
              "      <td>14.0</td>\n",
              "      <td>18.4</td>\n",
              "      <td>14.1</td>\n",
              "      <td>77.6</td>\n",
              "      <td>0.000</td>\n",
              "      <td>0.0</td>\n",
              "      <td>0.00</td>\n",
              "      <td>1015.9</td>\n",
              "      <td>Clear</td>\n",
              "    </tr>\n",
              "    <tr>\n",
              "      <th>3</th>\n",
              "      <td>23.0</td>\n",
              "      <td>13.0</td>\n",
              "      <td>17.6</td>\n",
              "      <td>23.0</td>\n",
              "      <td>13.0</td>\n",
              "      <td>17.6</td>\n",
              "      <td>13.4</td>\n",
              "      <td>78.0</td>\n",
              "      <td>0.000</td>\n",
              "      <td>0.0</td>\n",
              "      <td>0.00</td>\n",
              "      <td>1016.6</td>\n",
              "      <td>Clear</td>\n",
              "    </tr>\n",
              "    <tr>\n",
              "      <th>4</th>\n",
              "      <td>24.0</td>\n",
              "      <td>13.0</td>\n",
              "      <td>17.9</td>\n",
              "      <td>24.0</td>\n",
              "      <td>13.0</td>\n",
              "      <td>17.9</td>\n",
              "      <td>13.0</td>\n",
              "      <td>75.7</td>\n",
              "      <td>0.000</td>\n",
              "      <td>0.0</td>\n",
              "      <td>0.00</td>\n",
              "      <td>1015.8</td>\n",
              "      <td>Clear</td>\n",
              "    </tr>\n",
              "    <tr>\n",
              "      <th>...</th>\n",
              "      <td>...</td>\n",
              "      <td>...</td>\n",
              "      <td>...</td>\n",
              "      <td>...</td>\n",
              "      <td>...</td>\n",
              "      <td>...</td>\n",
              "      <td>...</td>\n",
              "      <td>...</td>\n",
              "      <td>...</td>\n",
              "      <td>...</td>\n",
              "      <td>...</td>\n",
              "      <td>...</td>\n",
              "      <td>...</td>\n",
              "    </tr>\n",
              "    <tr>\n",
              "      <th>390</th>\n",
              "      <td>26.0</td>\n",
              "      <td>16.0</td>\n",
              "      <td>21.3</td>\n",
              "      <td>26.0</td>\n",
              "      <td>16.0</td>\n",
              "      <td>21.3</td>\n",
              "      <td>18.2</td>\n",
              "      <td>83.5</td>\n",
              "      <td>0.000</td>\n",
              "      <td>0.0</td>\n",
              "      <td>0.00</td>\n",
              "      <td>1017.0</td>\n",
              "      <td>cloudy</td>\n",
              "    </tr>\n",
              "    <tr>\n",
              "      <th>391</th>\n",
              "      <td>26.0</td>\n",
              "      <td>17.8</td>\n",
              "      <td>21.1</td>\n",
              "      <td>26.0</td>\n",
              "      <td>17.8</td>\n",
              "      <td>21.1</td>\n",
              "      <td>17.3</td>\n",
              "      <td>79.9</td>\n",
              "      <td>0.000</td>\n",
              "      <td>0.0</td>\n",
              "      <td>0.00</td>\n",
              "      <td>1016.4</td>\n",
              "      <td>cloudy</td>\n",
              "    </tr>\n",
              "    <tr>\n",
              "      <th>392</th>\n",
              "      <td>25.0</td>\n",
              "      <td>18.0</td>\n",
              "      <td>20.7</td>\n",
              "      <td>25.0</td>\n",
              "      <td>18.0</td>\n",
              "      <td>20.7</td>\n",
              "      <td>17.2</td>\n",
              "      <td>81.4</td>\n",
              "      <td>0.000</td>\n",
              "      <td>0.0</td>\n",
              "      <td>0.00</td>\n",
              "      <td>1016.5</td>\n",
              "      <td>cloudy</td>\n",
              "    </tr>\n",
              "    <tr>\n",
              "      <th>393</th>\n",
              "      <td>23.0</td>\n",
              "      <td>17.0</td>\n",
              "      <td>19.4</td>\n",
              "      <td>23.0</td>\n",
              "      <td>17.0</td>\n",
              "      <td>19.4</td>\n",
              "      <td>17.4</td>\n",
              "      <td>88.3</td>\n",
              "      <td>0.988</td>\n",
              "      <td>100.0</td>\n",
              "      <td>4.17</td>\n",
              "      <td>1018.9</td>\n",
              "      <td>rainy</td>\n",
              "    </tr>\n",
              "    <tr>\n",
              "      <th>394</th>\n",
              "      <td>24.0</td>\n",
              "      <td>15.0</td>\n",
              "      <td>19.7</td>\n",
              "      <td>24.0</td>\n",
              "      <td>15.0</td>\n",
              "      <td>19.7</td>\n",
              "      <td>16.4</td>\n",
              "      <td>82.2</td>\n",
              "      <td>0.000</td>\n",
              "      <td>0.0</td>\n",
              "      <td>0.00</td>\n",
              "      <td>1019.4</td>\n",
              "      <td>Clear</td>\n",
              "    </tr>\n",
              "  </tbody>\n",
              "</table>\n",
              "<p>395 rows × 13 columns</p>\n",
              "</div>\n",
              "      <button class=\"colab-df-convert\" onclick=\"convertToInteractive('df-e87343aa-0434-429d-9e73-593362c0a3df')\"\n",
              "              title=\"Convert this dataframe to an interactive table.\"\n",
              "              style=\"display:none;\">\n",
              "        \n",
              "  <svg xmlns=\"http://www.w3.org/2000/svg\" height=\"24px\"viewBox=\"0 0 24 24\"\n",
              "       width=\"24px\">\n",
              "    <path d=\"M0 0h24v24H0V0z\" fill=\"none\"/>\n",
              "    <path d=\"M18.56 5.44l.94 2.06.94-2.06 2.06-.94-2.06-.94-.94-2.06-.94 2.06-2.06.94zm-11 1L8.5 8.5l.94-2.06 2.06-.94-2.06-.94L8.5 2.5l-.94 2.06-2.06.94zm10 10l.94 2.06.94-2.06 2.06-.94-2.06-.94-.94-2.06-.94 2.06-2.06.94z\"/><path d=\"M17.41 7.96l-1.37-1.37c-.4-.4-.92-.59-1.43-.59-.52 0-1.04.2-1.43.59L10.3 9.45l-7.72 7.72c-.78.78-.78 2.05 0 2.83L4 21.41c.39.39.9.59 1.41.59.51 0 1.02-.2 1.41-.59l7.78-7.78 2.81-2.81c.8-.78.8-2.07 0-2.86zM5.41 20L4 18.59l7.72-7.72 1.47 1.35L5.41 20z\"/>\n",
              "  </svg>\n",
              "      </button>\n",
              "      \n",
              "  <style>\n",
              "    .colab-df-container {\n",
              "      display:flex;\n",
              "      flex-wrap:wrap;\n",
              "      gap: 12px;\n",
              "    }\n",
              "\n",
              "    .colab-df-convert {\n",
              "      background-color: #E8F0FE;\n",
              "      border: none;\n",
              "      border-radius: 50%;\n",
              "      cursor: pointer;\n",
              "      display: none;\n",
              "      fill: #1967D2;\n",
              "      height: 32px;\n",
              "      padding: 0 0 0 0;\n",
              "      width: 32px;\n",
              "    }\n",
              "\n",
              "    .colab-df-convert:hover {\n",
              "      background-color: #E2EBFA;\n",
              "      box-shadow: 0px 1px 2px rgba(60, 64, 67, 0.3), 0px 1px 3px 1px rgba(60, 64, 67, 0.15);\n",
              "      fill: #174EA6;\n",
              "    }\n",
              "\n",
              "    [theme=dark] .colab-df-convert {\n",
              "      background-color: #3B4455;\n",
              "      fill: #D2E3FC;\n",
              "    }\n",
              "\n",
              "    [theme=dark] .colab-df-convert:hover {\n",
              "      background-color: #434B5C;\n",
              "      box-shadow: 0px 1px 3px 1px rgba(0, 0, 0, 0.15);\n",
              "      filter: drop-shadow(0px 1px 2px rgba(0, 0, 0, 0.3));\n",
              "      fill: #FFFFFF;\n",
              "    }\n",
              "  </style>\n",
              "\n",
              "      <script>\n",
              "        const buttonEl =\n",
              "          document.querySelector('#df-e87343aa-0434-429d-9e73-593362c0a3df button.colab-df-convert');\n",
              "        buttonEl.style.display =\n",
              "          google.colab.kernel.accessAllowed ? 'block' : 'none';\n",
              "\n",
              "        async function convertToInteractive(key) {\n",
              "          const element = document.querySelector('#df-e87343aa-0434-429d-9e73-593362c0a3df');\n",
              "          const dataTable =\n",
              "            await google.colab.kernel.invokeFunction('convertToInteractive',\n",
              "                                                     [key], {});\n",
              "          if (!dataTable) return;\n",
              "\n",
              "          const docLinkHtml = 'Like what you see? Visit the ' +\n",
              "            '<a target=\"_blank\" href=https://colab.research.google.com/notebooks/data_table.ipynb>data table notebook</a>'\n",
              "            + ' to learn more about interactive tables.';\n",
              "          element.innerHTML = '';\n",
              "          dataTable['output_type'] = 'display_data';\n",
              "          await google.colab.output.renderOutput(dataTable, element);\n",
              "          const docLink = document.createElement('div');\n",
              "          docLink.innerHTML = docLinkHtml;\n",
              "          element.appendChild(docLink);\n",
              "        }\n",
              "      </script>\n",
              "    </div>\n",
              "  </div>\n",
              "  "
            ]
          },
          "metadata": {},
          "execution_count": 7
        }
      ]
    },
    {
      "cell_type": "code",
      "source": [
        "data.isna().sum()"
      ],
      "metadata": {
        "colab": {
          "base_uri": "https://localhost:8080/"
        },
        "id": "PshdDsPx1fDf",
        "outputId": "04f34aba-0311-42be-f2de-6f8b4b8bb517"
      },
      "execution_count": null,
      "outputs": [
        {
          "output_type": "execute_result",
          "data": {
            "text/plain": [
              "tempmax             0\n",
              "tempmin             0\n",
              "temp                0\n",
              "feelslikemax        0\n",
              "feelslikemin        0\n",
              "feelslike           0\n",
              "dew                 0\n",
              "humidity            0\n",
              "precip              0\n",
              "precipprob          0\n",
              "precipcover         0\n",
              "sealevelpressure    0\n",
              "conditions          0\n",
              "dtype: int64"
            ]
          },
          "metadata": {},
          "execution_count": 4
        }
      ]
    },
    {
      "cell_type": "code",
      "source": [
        "import sklearn\n",
        "from sklearn import svm\n",
        "import sklearn.model_selection as model_selection\n",
        "from sklearn.metrics import accuracy_score\n",
        "from sklearn.metrics import f1_score\n",
        "from sklearn.model_selection import train_test_split\n",
        "from sklearn.decomposition import PCA"
      ],
      "metadata": {
        "id": "OU91801x1vEG"
      },
      "execution_count": null,
      "outputs": []
    },
    {
      "cell_type": "code",
      "source": [
        "data=data[['tempmax','tempmin','dew','humidity','precip','sealevelpressure','conditions']]\n",
        "data"
      ],
      "metadata": {
        "colab": {
          "base_uri": "https://localhost:8080/",
          "height": 423
        },
        "id": "2scRjDUp2swf",
        "outputId": "7b3859d2-81b2-480e-f010-8092f351fd29"
      },
      "execution_count": null,
      "outputs": [
        {
          "output_type": "execute_result",
          "data": {
            "text/plain": [
              "     tempmax  tempmin   dew  humidity  precip  sealevelpressure conditions\n",
              "0       23.0     16.0  15.1      79.3   0.000            1018.6      Clear\n",
              "1       23.0     14.0  14.6      82.3   0.000            1017.3     cloudy\n",
              "2       24.0     14.0  14.1      77.6   0.000            1015.9      Clear\n",
              "3       23.0     13.0  13.4      78.0   0.000            1016.6      Clear\n",
              "4       24.0     13.0  13.0      75.7   0.000            1015.8      Clear\n",
              "..       ...      ...   ...       ...     ...               ...        ...\n",
              "390     26.0     16.0  18.2      83.5   0.000            1017.0     cloudy\n",
              "391     26.0     17.8  17.3      79.9   0.000            1016.4     cloudy\n",
              "392     25.0     18.0  17.2      81.4   0.000            1016.5     cloudy\n",
              "393     23.0     17.0  17.4      88.3   0.988            1018.9      rainy\n",
              "394     24.0     15.0  16.4      82.2   0.000            1019.4      Clear\n",
              "\n",
              "[395 rows x 7 columns]"
            ],
            "text/html": [
              "\n",
              "  <div id=\"df-7805c09c-2f2e-4e42-be0a-e168549762f9\">\n",
              "    <div class=\"colab-df-container\">\n",
              "      <div>\n",
              "<style scoped>\n",
              "    .dataframe tbody tr th:only-of-type {\n",
              "        vertical-align: middle;\n",
              "    }\n",
              "\n",
              "    .dataframe tbody tr th {\n",
              "        vertical-align: top;\n",
              "    }\n",
              "\n",
              "    .dataframe thead th {\n",
              "        text-align: right;\n",
              "    }\n",
              "</style>\n",
              "<table border=\"1\" class=\"dataframe\">\n",
              "  <thead>\n",
              "    <tr style=\"text-align: right;\">\n",
              "      <th></th>\n",
              "      <th>tempmax</th>\n",
              "      <th>tempmin</th>\n",
              "      <th>dew</th>\n",
              "      <th>humidity</th>\n",
              "      <th>precip</th>\n",
              "      <th>sealevelpressure</th>\n",
              "      <th>conditions</th>\n",
              "    </tr>\n",
              "  </thead>\n",
              "  <tbody>\n",
              "    <tr>\n",
              "      <th>0</th>\n",
              "      <td>23.0</td>\n",
              "      <td>16.0</td>\n",
              "      <td>15.1</td>\n",
              "      <td>79.3</td>\n",
              "      <td>0.000</td>\n",
              "      <td>1018.6</td>\n",
              "      <td>Clear</td>\n",
              "    </tr>\n",
              "    <tr>\n",
              "      <th>1</th>\n",
              "      <td>23.0</td>\n",
              "      <td>14.0</td>\n",
              "      <td>14.6</td>\n",
              "      <td>82.3</td>\n",
              "      <td>0.000</td>\n",
              "      <td>1017.3</td>\n",
              "      <td>cloudy</td>\n",
              "    </tr>\n",
              "    <tr>\n",
              "      <th>2</th>\n",
              "      <td>24.0</td>\n",
              "      <td>14.0</td>\n",
              "      <td>14.1</td>\n",
              "      <td>77.6</td>\n",
              "      <td>0.000</td>\n",
              "      <td>1015.9</td>\n",
              "      <td>Clear</td>\n",
              "    </tr>\n",
              "    <tr>\n",
              "      <th>3</th>\n",
              "      <td>23.0</td>\n",
              "      <td>13.0</td>\n",
              "      <td>13.4</td>\n",
              "      <td>78.0</td>\n",
              "      <td>0.000</td>\n",
              "      <td>1016.6</td>\n",
              "      <td>Clear</td>\n",
              "    </tr>\n",
              "    <tr>\n",
              "      <th>4</th>\n",
              "      <td>24.0</td>\n",
              "      <td>13.0</td>\n",
              "      <td>13.0</td>\n",
              "      <td>75.7</td>\n",
              "      <td>0.000</td>\n",
              "      <td>1015.8</td>\n",
              "      <td>Clear</td>\n",
              "    </tr>\n",
              "    <tr>\n",
              "      <th>...</th>\n",
              "      <td>...</td>\n",
              "      <td>...</td>\n",
              "      <td>...</td>\n",
              "      <td>...</td>\n",
              "      <td>...</td>\n",
              "      <td>...</td>\n",
              "      <td>...</td>\n",
              "    </tr>\n",
              "    <tr>\n",
              "      <th>390</th>\n",
              "      <td>26.0</td>\n",
              "      <td>16.0</td>\n",
              "      <td>18.2</td>\n",
              "      <td>83.5</td>\n",
              "      <td>0.000</td>\n",
              "      <td>1017.0</td>\n",
              "      <td>cloudy</td>\n",
              "    </tr>\n",
              "    <tr>\n",
              "      <th>391</th>\n",
              "      <td>26.0</td>\n",
              "      <td>17.8</td>\n",
              "      <td>17.3</td>\n",
              "      <td>79.9</td>\n",
              "      <td>0.000</td>\n",
              "      <td>1016.4</td>\n",
              "      <td>cloudy</td>\n",
              "    </tr>\n",
              "    <tr>\n",
              "      <th>392</th>\n",
              "      <td>25.0</td>\n",
              "      <td>18.0</td>\n",
              "      <td>17.2</td>\n",
              "      <td>81.4</td>\n",
              "      <td>0.000</td>\n",
              "      <td>1016.5</td>\n",
              "      <td>cloudy</td>\n",
              "    </tr>\n",
              "    <tr>\n",
              "      <th>393</th>\n",
              "      <td>23.0</td>\n",
              "      <td>17.0</td>\n",
              "      <td>17.4</td>\n",
              "      <td>88.3</td>\n",
              "      <td>0.988</td>\n",
              "      <td>1018.9</td>\n",
              "      <td>rainy</td>\n",
              "    </tr>\n",
              "    <tr>\n",
              "      <th>394</th>\n",
              "      <td>24.0</td>\n",
              "      <td>15.0</td>\n",
              "      <td>16.4</td>\n",
              "      <td>82.2</td>\n",
              "      <td>0.000</td>\n",
              "      <td>1019.4</td>\n",
              "      <td>Clear</td>\n",
              "    </tr>\n",
              "  </tbody>\n",
              "</table>\n",
              "<p>395 rows × 7 columns</p>\n",
              "</div>\n",
              "      <button class=\"colab-df-convert\" onclick=\"convertToInteractive('df-7805c09c-2f2e-4e42-be0a-e168549762f9')\"\n",
              "              title=\"Convert this dataframe to an interactive table.\"\n",
              "              style=\"display:none;\">\n",
              "        \n",
              "  <svg xmlns=\"http://www.w3.org/2000/svg\" height=\"24px\"viewBox=\"0 0 24 24\"\n",
              "       width=\"24px\">\n",
              "    <path d=\"M0 0h24v24H0V0z\" fill=\"none\"/>\n",
              "    <path d=\"M18.56 5.44l.94 2.06.94-2.06 2.06-.94-2.06-.94-.94-2.06-.94 2.06-2.06.94zm-11 1L8.5 8.5l.94-2.06 2.06-.94-2.06-.94L8.5 2.5l-.94 2.06-2.06.94zm10 10l.94 2.06.94-2.06 2.06-.94-2.06-.94-.94-2.06-.94 2.06-2.06.94z\"/><path d=\"M17.41 7.96l-1.37-1.37c-.4-.4-.92-.59-1.43-.59-.52 0-1.04.2-1.43.59L10.3 9.45l-7.72 7.72c-.78.78-.78 2.05 0 2.83L4 21.41c.39.39.9.59 1.41.59.51 0 1.02-.2 1.41-.59l7.78-7.78 2.81-2.81c.8-.78.8-2.07 0-2.86zM5.41 20L4 18.59l7.72-7.72 1.47 1.35L5.41 20z\"/>\n",
              "  </svg>\n",
              "      </button>\n",
              "      \n",
              "  <style>\n",
              "    .colab-df-container {\n",
              "      display:flex;\n",
              "      flex-wrap:wrap;\n",
              "      gap: 12px;\n",
              "    }\n",
              "\n",
              "    .colab-df-convert {\n",
              "      background-color: #E8F0FE;\n",
              "      border: none;\n",
              "      border-radius: 50%;\n",
              "      cursor: pointer;\n",
              "      display: none;\n",
              "      fill: #1967D2;\n",
              "      height: 32px;\n",
              "      padding: 0 0 0 0;\n",
              "      width: 32px;\n",
              "    }\n",
              "\n",
              "    .colab-df-convert:hover {\n",
              "      background-color: #E2EBFA;\n",
              "      box-shadow: 0px 1px 2px rgba(60, 64, 67, 0.3), 0px 1px 3px 1px rgba(60, 64, 67, 0.15);\n",
              "      fill: #174EA6;\n",
              "    }\n",
              "\n",
              "    [theme=dark] .colab-df-convert {\n",
              "      background-color: #3B4455;\n",
              "      fill: #D2E3FC;\n",
              "    }\n",
              "\n",
              "    [theme=dark] .colab-df-convert:hover {\n",
              "      background-color: #434B5C;\n",
              "      box-shadow: 0px 1px 3px 1px rgba(0, 0, 0, 0.15);\n",
              "      filter: drop-shadow(0px 1px 2px rgba(0, 0, 0, 0.3));\n",
              "      fill: #FFFFFF;\n",
              "    }\n",
              "  </style>\n",
              "\n",
              "      <script>\n",
              "        const buttonEl =\n",
              "          document.querySelector('#df-7805c09c-2f2e-4e42-be0a-e168549762f9 button.colab-df-convert');\n",
              "        buttonEl.style.display =\n",
              "          google.colab.kernel.accessAllowed ? 'block' : 'none';\n",
              "\n",
              "        async function convertToInteractive(key) {\n",
              "          const element = document.querySelector('#df-7805c09c-2f2e-4e42-be0a-e168549762f9');\n",
              "          const dataTable =\n",
              "            await google.colab.kernel.invokeFunction('convertToInteractive',\n",
              "                                                     [key], {});\n",
              "          if (!dataTable) return;\n",
              "\n",
              "          const docLinkHtml = 'Like what you see? Visit the ' +\n",
              "            '<a target=\"_blank\" href=https://colab.research.google.com/notebooks/data_table.ipynb>data table notebook</a>'\n",
              "            + ' to learn more about interactive tables.';\n",
              "          element.innerHTML = '';\n",
              "          dataTable['output_type'] = 'display_data';\n",
              "          await google.colab.output.renderOutput(dataTable, element);\n",
              "          const docLink = document.createElement('div');\n",
              "          docLink.innerHTML = docLinkHtml;\n",
              "          element.appendChild(docLink);\n",
              "        }\n",
              "      </script>\n",
              "    </div>\n",
              "  </div>\n",
              "  "
            ]
          },
          "metadata": {},
          "execution_count": 8
        }
      ]
    },
    {
      "cell_type": "code",
      "source": [
        "y=data['conditions']\n",
        "x=data[['tempmax','tempmin','dew','humidity','precip','sealevelpressure']]\n",
        "\n"
      ],
      "metadata": {
        "id": "3Yt0FM7v5sg-"
      },
      "execution_count": null,
      "outputs": []
    },
    {
      "cell_type": "code",
      "source": [
        "x_train, x_test, y_train, y_test = model_selection.train_test_split(x, y, train_size=0.80, test_size=0.20, random_state=101)"
      ],
      "metadata": {
        "id": "np5wOGti96wj"
      },
      "execution_count": null,
      "outputs": []
    },
    {
      "cell_type": "code",
      "source": [
        "from sklearn.preprocessing import OneHotEncoder\n",
        "from sklearn import preprocessing\n",
        "encoder = preprocessing.LabelEncoder()\n",
        "# enc=OneHotEncoder()\n",
        "# y_train=pd.DataFrame(y_train)\n",
        "# y_test=pd.DataFrame(y_test)\n",
        "# y_train=enc.fit_transform(y_train.to_numpy().reshape(-1,1)).toarray()\n",
        "# y_test=enc.fit_transform(y_test.to_numpy().reshape(-1,1)).toarray()\n",
        "#encoding train labels \n",
        "encoder.fit(y_train)\n",
        "y_train = encoder.transform(y_train)\n",
        "\n",
        "# encoding test labels \n",
        "encoder.fit(y_test)\n",
        "y_test = encoder.transform(y_test)"
      ],
      "metadata": {
        "id": "Fsjp0h4B6mh2"
      },
      "execution_count": null,
      "outputs": []
    },
    {
      "cell_type": "code",
      "source": [
        "y_train"
      ],
      "metadata": {
        "colab": {
          "base_uri": "https://localhost:8080/"
        },
        "id": "_WnIt-i17tyG",
        "outputId": "11db951b-dd29-4f13-9178-19bb5d6f5dd2"
      },
      "execution_count": null,
      "outputs": [
        {
          "output_type": "execute_result",
          "data": {
            "text/plain": [
              "array([0, 2, 1, 0, 0, 1, 1, 0, 2, 2, 2, 2, 1, 0, 1, 0, 1, 0, 2, 2, 1, 0,\n",
              "       0, 0, 1, 0, 0, 1, 2, 2, 2, 0, 2, 1, 0, 2, 1, 1, 1, 1, 2, 1, 1, 1,\n",
              "       0, 2, 0, 0, 1, 1, 1, 0, 2, 2, 0, 0, 2, 2, 2, 2, 2, 2, 1, 2, 2, 0,\n",
              "       2, 1, 2, 1, 2, 0, 2, 1, 0, 2, 2, 2, 1, 2, 2, 0, 2, 1, 1, 1, 1, 1,\n",
              "       1, 1, 1, 2, 1, 0, 2, 1, 0, 2, 0, 2, 2, 2, 1, 2, 2, 2, 1, 1, 1, 1,\n",
              "       0, 2, 1, 2, 1, 2, 2, 1, 2, 2, 1, 0, 2, 2, 2, 0, 2, 1, 0, 2, 0, 0,\n",
              "       0, 1, 1, 0, 1, 0, 2, 2, 1, 2, 0, 0, 1, 1, 2, 1, 2, 2, 0, 0, 0, 1,\n",
              "       2, 1, 0, 1, 1, 0, 0, 2, 2, 2, 1, 2, 0, 0, 0, 2, 1, 1, 2, 1, 2, 2,\n",
              "       2, 2, 1, 2, 0, 1, 2, 1, 1, 1, 1, 0, 2, 0, 1, 2, 0, 2, 1, 0, 1, 1,\n",
              "       2, 1, 2, 2, 1, 1, 1, 2, 0, 0, 1, 1, 2, 1, 1, 0, 2, 1, 2, 2, 1, 2,\n",
              "       1, 2, 0, 2, 0, 2, 2, 1, 1, 1, 0, 0, 2, 2, 1, 2, 2, 2, 1, 0, 0, 1,\n",
              "       1, 0, 0, 2, 1, 2, 2, 0, 2, 2, 1, 2, 0, 2, 0, 2, 2, 1, 2, 2, 2, 2,\n",
              "       2, 1, 0, 1, 0, 0, 0, 2, 0, 1, 0, 0, 2, 1, 1, 0, 2, 2, 1, 0, 1, 2,\n",
              "       0, 2, 2, 1, 0, 0, 0, 1, 2, 2, 2, 0, 0, 0, 0, 1, 2, 2, 0, 2, 1, 2,\n",
              "       2, 0, 1, 1, 0, 0, 2, 0])"
            ]
          },
          "metadata": {},
          "execution_count": 81
        }
      ]
    },
    {
      "cell_type": "code",
      "source": [
        "y_train.shape"
      ],
      "metadata": {
        "colab": {
          "base_uri": "https://localhost:8080/"
        },
        "id": "8ziq3u21CQNz",
        "outputId": "1debcf7e-2bb3-4d25-8ba6-d49a250bfe55"
      },
      "execution_count": null,
      "outputs": [
        {
          "output_type": "execute_result",
          "data": {
            "text/plain": [
              "(316,)"
            ]
          },
          "metadata": {},
          "execution_count": 82
        }
      ]
    },
    {
      "cell_type": "markdown",
      "source": [
        "**['Clear','Cloudy','Rainy']**"
      ],
      "metadata": {
        "id": "BqZ_xPL59aZr"
      }
    },
    {
      "cell_type": "code",
      "source": [
        "#Checking accuracy over poly\n",
        "poly = svm.SVC(kernel='poly', degree=8, C=19).fit(x_train, y_train)\n",
        "poly_pred = poly.predict(x_test)\n",
        "poly_accuracy = accuracy_score(y_test, poly_pred)\n",
        "poly_f1 = f1_score(y_test, poly_pred, average='weighted')\n",
        "print('Accuracy (Polynomial Kernel): ', \"%.2f\" % (poly_accuracy*100))\n",
        "print('F1 (Polynomial Kernel): ', \"%.2f\" % (poly_f1*100))"
      ],
      "metadata": {
        "colab": {
          "base_uri": "https://localhost:8080/"
        },
        "id": "AnMpHaG8GH0r",
        "outputId": "ed9e152d-c9f8-448c-84dc-74b54e0b4516"
      },
      "execution_count": null,
      "outputs": [
        {
          "output_type": "stream",
          "name": "stdout",
          "text": [
            "Accuracy (Polynomial Kernel):  78.48\n",
            "F1 (Polynomial Kernel):  78.13\n"
          ]
        }
      ]
    },
    {
      "cell_type": "code",
      "source": [
        "rbf = svm.SVC(kernel='rbf', gamma=.000005, C=45.1).fit(x_train, y_train)\n",
        "\n",
        "rbf_pred = rbf.predict(x_test)\n",
        "rbf_accuracy = accuracy_score(y_test, rbf_pred)\n",
        "rbf_f1 = f1_score(y_test, rbf_pred, average='weighted')\n",
        "print('Accuracy (RBF Kernel): ', \"%.2f\" % (rbf_accuracy*100))\n",
        "print('F1 (RBF Kernel): ', \"%.2f\" % (rbf_f1*100))"
      ],
      "metadata": {
        "colab": {
          "base_uri": "https://localhost:8080/"
        },
        "id": "8MRbBbnCGYel",
        "outputId": "32add71d-b902-4913-e3f6-db946ba32dee"
      },
      "execution_count": null,
      "outputs": [
        {
          "output_type": "stream",
          "name": "stdout",
          "text": [
            "Accuracy (RBF Kernel):  82.28\n",
            "F1 (RBF Kernel):  81.95\n"
          ]
        }
      ]
    },
    {
      "cell_type": "code",
      "source": [
        "linear = svm.SVC(kernel='linear',gamma=.0005, C=45.1).fit(x_train, y_train)\n",
        "\n",
        "linear_pred = rbf.predict(x_test)\n",
        "linear_accuracy = accuracy_score(y_test, linear_pred)\n",
        "linear_f1 = f1_score(y_test, linear_pred, average='weighted')\n",
        "print('Accuracy (RBF Kernel): ', \"%.2f\" % (rbf_accuracy*100))\n",
        "print('F1 (RBF Kernel): ', \"%.2f\" % (rbf_f1*100))"
      ],
      "metadata": {
        "colab": {
          "base_uri": "https://localhost:8080/"
        },
        "id": "oUbHutMRGc7D",
        "outputId": "b0a3e083-2d87-423a-e9c5-282a83dd6855"
      },
      "execution_count": null,
      "outputs": [
        {
          "output_type": "stream",
          "name": "stdout",
          "text": [
            "Accuracy (RBF Kernel):  82.28\n",
            "F1 (RBF Kernel):  81.95\n"
          ]
        }
      ]
    },
    {
      "cell_type": "code",
      "source": [
        "sigmoid = svm.SVC(kernel='sigmoid',gamma=.00099, C=45.1).fit(x_train, y_train)\n",
        "\n",
        "sigmoid_pred = rbf.predict(x_test)\n",
        "linear_accuracy = accuracy_score(y_test, sigmoid_pred)\n",
        "linear_f1 = f1_score(y_test, sigmoid_pred, average='weighted')\n",
        "print('Accuracy (RBF Kernel): ', \"%.2f\" % (rbf_accuracy*100))\n",
        "print('F1 (RBF Kernel): ', \"%.2f\" % (rbf_f1*100))"
      ],
      "metadata": {
        "colab": {
          "base_uri": "https://localhost:8080/"
        },
        "id": "dZxXxOD3I08b",
        "outputId": "c4adde14-da92-4dc0-e207-613ea0873bb4"
      },
      "execution_count": null,
      "outputs": [
        {
          "output_type": "stream",
          "name": "stdout",
          "text": [
            "Accuracy (RBF Kernel):  82.28\n",
            "F1 (RBF Kernel):  81.95\n"
          ]
        }
      ]
    },
    {
      "cell_type": "code",
      "source": [
        "svc_eval=pd.read_csv(\"/content/SVC_eval.csv\")\n",
        "svc_eval"
      ],
      "metadata": {
        "colab": {
          "base_uri": "https://localhost:8080/",
          "height": 300
        },
        "id": "9r2TOMneJzFj",
        "outputId": "99d04e89-c7ee-46ce-fa06-1eed0ebf12fe"
      },
      "execution_count": null,
      "outputs": [
        {
          "output_type": "execute_result",
          "data": {
            "text/plain": [
              "  SVC_MODELS   Eval   Metrics\n",
              "0       poly  78.48  Accuracy\n",
              "1       poly  78.13  F1_Score\n",
              "2        rbf  82.28  Accuracy\n",
              "3        rbf  81.95  F1_Score\n",
              "4     linear  82.28  Accuracy\n",
              "5     linear  81.95  F1_Score\n",
              "6    sigmoid  82.28  Accuracy\n",
              "7    sigmoid  81.95  F1_Score"
            ],
            "text/html": [
              "\n",
              "  <div id=\"df-8e84448f-5820-4f1d-bcec-6d81e81b368e\">\n",
              "    <div class=\"colab-df-container\">\n",
              "      <div>\n",
              "<style scoped>\n",
              "    .dataframe tbody tr th:only-of-type {\n",
              "        vertical-align: middle;\n",
              "    }\n",
              "\n",
              "    .dataframe tbody tr th {\n",
              "        vertical-align: top;\n",
              "    }\n",
              "\n",
              "    .dataframe thead th {\n",
              "        text-align: right;\n",
              "    }\n",
              "</style>\n",
              "<table border=\"1\" class=\"dataframe\">\n",
              "  <thead>\n",
              "    <tr style=\"text-align: right;\">\n",
              "      <th></th>\n",
              "      <th>SVC_MODELS</th>\n",
              "      <th>Eval</th>\n",
              "      <th>Metrics</th>\n",
              "    </tr>\n",
              "  </thead>\n",
              "  <tbody>\n",
              "    <tr>\n",
              "      <th>0</th>\n",
              "      <td>poly</td>\n",
              "      <td>78.48</td>\n",
              "      <td>Accuracy</td>\n",
              "    </tr>\n",
              "    <tr>\n",
              "      <th>1</th>\n",
              "      <td>poly</td>\n",
              "      <td>78.13</td>\n",
              "      <td>F1_Score</td>\n",
              "    </tr>\n",
              "    <tr>\n",
              "      <th>2</th>\n",
              "      <td>rbf</td>\n",
              "      <td>82.28</td>\n",
              "      <td>Accuracy</td>\n",
              "    </tr>\n",
              "    <tr>\n",
              "      <th>3</th>\n",
              "      <td>rbf</td>\n",
              "      <td>81.95</td>\n",
              "      <td>F1_Score</td>\n",
              "    </tr>\n",
              "    <tr>\n",
              "      <th>4</th>\n",
              "      <td>linear</td>\n",
              "      <td>82.28</td>\n",
              "      <td>Accuracy</td>\n",
              "    </tr>\n",
              "    <tr>\n",
              "      <th>5</th>\n",
              "      <td>linear</td>\n",
              "      <td>81.95</td>\n",
              "      <td>F1_Score</td>\n",
              "    </tr>\n",
              "    <tr>\n",
              "      <th>6</th>\n",
              "      <td>sigmoid</td>\n",
              "      <td>82.28</td>\n",
              "      <td>Accuracy</td>\n",
              "    </tr>\n",
              "    <tr>\n",
              "      <th>7</th>\n",
              "      <td>sigmoid</td>\n",
              "      <td>81.95</td>\n",
              "      <td>F1_Score</td>\n",
              "    </tr>\n",
              "  </tbody>\n",
              "</table>\n",
              "</div>\n",
              "      <button class=\"colab-df-convert\" onclick=\"convertToInteractive('df-8e84448f-5820-4f1d-bcec-6d81e81b368e')\"\n",
              "              title=\"Convert this dataframe to an interactive table.\"\n",
              "              style=\"display:none;\">\n",
              "        \n",
              "  <svg xmlns=\"http://www.w3.org/2000/svg\" height=\"24px\"viewBox=\"0 0 24 24\"\n",
              "       width=\"24px\">\n",
              "    <path d=\"M0 0h24v24H0V0z\" fill=\"none\"/>\n",
              "    <path d=\"M18.56 5.44l.94 2.06.94-2.06 2.06-.94-2.06-.94-.94-2.06-.94 2.06-2.06.94zm-11 1L8.5 8.5l.94-2.06 2.06-.94-2.06-.94L8.5 2.5l-.94 2.06-2.06.94zm10 10l.94 2.06.94-2.06 2.06-.94-2.06-.94-.94-2.06-.94 2.06-2.06.94z\"/><path d=\"M17.41 7.96l-1.37-1.37c-.4-.4-.92-.59-1.43-.59-.52 0-1.04.2-1.43.59L10.3 9.45l-7.72 7.72c-.78.78-.78 2.05 0 2.83L4 21.41c.39.39.9.59 1.41.59.51 0 1.02-.2 1.41-.59l7.78-7.78 2.81-2.81c.8-.78.8-2.07 0-2.86zM5.41 20L4 18.59l7.72-7.72 1.47 1.35L5.41 20z\"/>\n",
              "  </svg>\n",
              "      </button>\n",
              "      \n",
              "  <style>\n",
              "    .colab-df-container {\n",
              "      display:flex;\n",
              "      flex-wrap:wrap;\n",
              "      gap: 12px;\n",
              "    }\n",
              "\n",
              "    .colab-df-convert {\n",
              "      background-color: #E8F0FE;\n",
              "      border: none;\n",
              "      border-radius: 50%;\n",
              "      cursor: pointer;\n",
              "      display: none;\n",
              "      fill: #1967D2;\n",
              "      height: 32px;\n",
              "      padding: 0 0 0 0;\n",
              "      width: 32px;\n",
              "    }\n",
              "\n",
              "    .colab-df-convert:hover {\n",
              "      background-color: #E2EBFA;\n",
              "      box-shadow: 0px 1px 2px rgba(60, 64, 67, 0.3), 0px 1px 3px 1px rgba(60, 64, 67, 0.15);\n",
              "      fill: #174EA6;\n",
              "    }\n",
              "\n",
              "    [theme=dark] .colab-df-convert {\n",
              "      background-color: #3B4455;\n",
              "      fill: #D2E3FC;\n",
              "    }\n",
              "\n",
              "    [theme=dark] .colab-df-convert:hover {\n",
              "      background-color: #434B5C;\n",
              "      box-shadow: 0px 1px 3px 1px rgba(0, 0, 0, 0.15);\n",
              "      filter: drop-shadow(0px 1px 2px rgba(0, 0, 0, 0.3));\n",
              "      fill: #FFFFFF;\n",
              "    }\n",
              "  </style>\n",
              "\n",
              "      <script>\n",
              "        const buttonEl =\n",
              "          document.querySelector('#df-8e84448f-5820-4f1d-bcec-6d81e81b368e button.colab-df-convert');\n",
              "        buttonEl.style.display =\n",
              "          google.colab.kernel.accessAllowed ? 'block' : 'none';\n",
              "\n",
              "        async function convertToInteractive(key) {\n",
              "          const element = document.querySelector('#df-8e84448f-5820-4f1d-bcec-6d81e81b368e');\n",
              "          const dataTable =\n",
              "            await google.colab.kernel.invokeFunction('convertToInteractive',\n",
              "                                                     [key], {});\n",
              "          if (!dataTable) return;\n",
              "\n",
              "          const docLinkHtml = 'Like what you see? Visit the ' +\n",
              "            '<a target=\"_blank\" href=https://colab.research.google.com/notebooks/data_table.ipynb>data table notebook</a>'\n",
              "            + ' to learn more about interactive tables.';\n",
              "          element.innerHTML = '';\n",
              "          dataTable['output_type'] = 'display_data';\n",
              "          await google.colab.output.renderOutput(dataTable, element);\n",
              "          const docLink = document.createElement('div');\n",
              "          docLink.innerHTML = docLinkHtml;\n",
              "          element.appendChild(docLink);\n",
              "        }\n",
              "      </script>\n",
              "    </div>\n",
              "  </div>\n",
              "  "
            ]
          },
          "metadata": {},
          "execution_count": 171
        }
      ]
    },
    {
      "cell_type": "code",
      "source": [
        "sns.barplot(x='SVC_MODELS',y='Eval',hue='Metrics',data=svc_eval)\n",
        "plt.legend(loc='lower left')"
      ],
      "metadata": {
        "colab": {
          "base_uri": "https://localhost:8080/",
          "height": 302
        },
        "id": "bJdJnHHnN3Ta",
        "outputId": "82283df3-0649-4539-befe-e5f94a628eb3"
      },
      "execution_count": null,
      "outputs": [
        {
          "output_type": "execute_result",
          "data": {
            "text/plain": [
              "<matplotlib.legend.Legend at 0x7fbfb7c59730>"
            ]
          },
          "metadata": {},
          "execution_count": 181
        },
        {
          "output_type": "display_data",
          "data": {
            "text/plain": [
              "<Figure size 432x288 with 1 Axes>"
            ],
            "image/png": "[encoded data removed]"
          },
          "metadata": {}
        }
      ]
    },
    {
      "cell_type": "code",
      "source": [],
      "metadata": {
        "id": "NWPVNX1ado6O"
      },
      "execution_count": null,
      "outputs": []
    }
  ]
}