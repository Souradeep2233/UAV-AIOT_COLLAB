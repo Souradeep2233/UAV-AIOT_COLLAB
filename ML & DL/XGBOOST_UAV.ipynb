{
  "nbformat": 4,
  "nbformat_minor": 0,
  "metadata": {
    "colab": {
      "provenance": []
    },
    "kernelspec": {
      "name": "python3",
      "display_name": "Python 3"
    },
    "language_info": {
      "name": "python"
    }
  },
  "cells": [
    {
      "cell_type": "code",
      "execution_count": null,
      "metadata": {
        "id": "3LIQUJosFvjp"
      },
      "outputs": [],
      "source": [
        "import pandas as pd,numpy as np \n",
        "import matplotlib.pyplot as plt\n",
        "import seaborn as sns\n",
        "import sklearn\n",
        "from sklearn import svm\n",
        "import sklearn.model_selection as model_selection\n",
        "from sklearn.metrics import accuracy_score\n",
        "from sklearn.metrics import f1_score\n",
        "from sklearn.model_selection import train_test_split\n",
        "from sklearn.decomposition import PCA\n",
        "data=pd.read_csv(\"/content/cleaned_dataset.csv\")\n",
        "data=data[['tempmax','tempmin','dew','humidity','precip','sealevelpressure','conditions']]"
      ]
    },
    {
      "cell_type": "code",
      "source": [
        "data"
      ],
      "metadata": {
        "colab": {
          "base_uri": "https://localhost:8080/",
          "height": 423
        },
        "id": "8pEN-8MyGG_U",
        "outputId": "fe84e538-e53d-4b6d-96ff-76012f442c29"
      },
      "execution_count": null,
      "outputs": [
        {
          "output_type": "execute_result",
          "data": {
            "text/plain": [
              "     tempmax  tempmin   dew  humidity  precip  sealevelpressure conditions\n",
              "0       23.0     16.0  15.1      79.3   0.000            1018.6      Clear\n",
              "1       23.0     14.0  14.6      82.3   0.000            1017.3     cloudy\n",
              "2       24.0     14.0  14.1      77.6   0.000            1015.9      Clear\n",
              "3       23.0     13.0  13.4      78.0   0.000            1016.6      Clear\n",
              "4       24.0     13.0  13.0      75.7   0.000            1015.8      Clear\n",
              "..       ...      ...   ...       ...     ...               ...        ...\n",
              "390     26.0     16.0  18.2      83.5   0.000            1017.0     cloudy\n",
              "391     26.0     17.8  17.3      79.9   0.000            1016.4     cloudy\n",
              "392     25.0     18.0  17.2      81.4   0.000            1016.5     cloudy\n",
              "393     23.0     17.0  17.4      88.3   0.988            1018.9      rainy\n",
              "394     24.0     15.0  16.4      82.2   0.000            1019.4      Clear\n",
              "\n",
              "[395 rows x 7 columns]"
            ],
            "text/html": [
              "\n",
              "  <div id=\"df-c2de1e8c-3a43-4281-b4c0-5a38d2ebe09d\">\n",
              "    <div class=\"colab-df-container\">\n",
              "      <div>\n",
              "<style scoped>\n",
              "    .dataframe tbody tr th:only-of-type {\n",
              "        vertical-align: middle;\n",
              "    }\n",
              "\n",
              "    .dataframe tbody tr th {\n",
              "        vertical-align: top;\n",
              "    }\n",
              "\n",
              "    .dataframe thead th {\n",
              "        text-align: right;\n",
              "    }\n",
              "</style>\n",
              "<table border=\"1\" class=\"dataframe\">\n",
              "  <thead>\n",
              "    <tr style=\"text-align: right;\">\n",
              "      <th></th>\n",
              "      <th>tempmax</th>\n",
              "      <th>tempmin</th>\n",
              "      <th>dew</th>\n",
              "      <th>humidity</th>\n",
              "      <th>precip</th>\n",
              "      <th>sealevelpressure</th>\n",
              "      <th>conditions</th>\n",
              "    </tr>\n",
              "  </thead>\n",
              "  <tbody>\n",
              "    <tr>\n",
              "      <th>0</th>\n",
              "      <td>23.0</td>\n",
              "      <td>16.0</td>\n",
              "      <td>15.1</td>\n",
              "      <td>79.3</td>\n",
              "      <td>0.000</td>\n",
              "      <td>1018.6</td>\n",
              "      <td>Clear</td>\n",
              "    </tr>\n",
              "    <tr>\n",
              "      <th>1</th>\n",
              "      <td>23.0</td>\n",
              "      <td>14.0</td>\n",
              "      <td>14.6</td>\n",
              "      <td>82.3</td>\n",
              "      <td>0.000</td>\n",
              "      <td>1017.3</td>\n",
              "      <td>cloudy</td>\n",
              "    </tr>\n",
              "    <tr>\n",
              "      <th>2</th>\n",
              "      <td>24.0</td>\n",
              "      <td>14.0</td>\n",
              "      <td>14.1</td>\n",
              "      <td>77.6</td>\n",
              "      <td>0.000</td>\n",
              "      <td>1015.9</td>\n",
              "      <td>Clear</td>\n",
              "    </tr>\n",
              "    <tr>\n",
              "      <th>3</th>\n",
              "      <td>23.0</td>\n",
              "      <td>13.0</td>\n",
              "      <td>13.4</td>\n",
              "      <td>78.0</td>\n",
              "      <td>0.000</td>\n",
              "      <td>1016.6</td>\n",
              "      <td>Clear</td>\n",
              "    </tr>\n",
              "    <tr>\n",
              "      <th>4</th>\n",
              "      <td>24.0</td>\n",
              "      <td>13.0</td>\n",
              "      <td>13.0</td>\n",
              "      <td>75.7</td>\n",
              "      <td>0.000</td>\n",
              "      <td>1015.8</td>\n",
              "      <td>Clear</td>\n",
              "    </tr>\n",
              "    <tr>\n",
              "      <th>...</th>\n",
              "      <td>...</td>\n",
              "      <td>...</td>\n",
              "      <td>...</td>\n",
              "      <td>...</td>\n",
              "      <td>...</td>\n",
              "      <td>...</td>\n",
              "      <td>...</td>\n",
              "    </tr>\n",
              "    <tr>\n",
              "      <th>390</th>\n",
              "      <td>26.0</td>\n",
              "      <td>16.0</td>\n",
              "      <td>18.2</td>\n",
              "      <td>83.5</td>\n",
              "      <td>0.000</td>\n",
              "      <td>1017.0</td>\n",
              "      <td>cloudy</td>\n",
              "    </tr>\n",
              "    <tr>\n",
              "      <th>391</th>\n",
              "      <td>26.0</td>\n",
              "      <td>17.8</td>\n",
              "      <td>17.3</td>\n",
              "      <td>79.9</td>\n",
              "      <td>0.000</td>\n",
              "      <td>1016.4</td>\n",
              "      <td>cloudy</td>\n",
              "    </tr>\n",
              "    <tr>\n",
              "      <th>392</th>\n",
              "      <td>25.0</td>\n",
              "      <td>18.0</td>\n",
              "      <td>17.2</td>\n",
              "      <td>81.4</td>\n",
              "      <td>0.000</td>\n",
              "      <td>1016.5</td>\n",
              "      <td>cloudy</td>\n",
              "    </tr>\n",
              "    <tr>\n",
              "      <th>393</th>\n",
              "      <td>23.0</td>\n",
              "      <td>17.0</td>\n",
              "      <td>17.4</td>\n",
              "      <td>88.3</td>\n",
              "      <td>0.988</td>\n",
              "      <td>1018.9</td>\n",
              "      <td>rainy</td>\n",
              "    </tr>\n",
              "    <tr>\n",
              "      <th>394</th>\n",
              "      <td>24.0</td>\n",
              "      <td>15.0</td>\n",
              "      <td>16.4</td>\n",
              "      <td>82.2</td>\n",
              "      <td>0.000</td>\n",
              "      <td>1019.4</td>\n",
              "      <td>Clear</td>\n",
              "    </tr>\n",
              "  </tbody>\n",
              "</table>\n",
              "<p>395 rows × 7 columns</p>\n",
              "</div>\n",
              "      <button class=\"colab-df-convert\" onclick=\"convertToInteractive('df-c2de1e8c-3a43-4281-b4c0-5a38d2ebe09d')\"\n",
              "              title=\"Convert this dataframe to an interactive table.\"\n",
              "              style=\"display:none;\">\n",
              "        \n",
              "  <svg xmlns=\"http://www.w3.org/2000/svg\" height=\"24px\"viewBox=\"0 0 24 24\"\n",
              "       width=\"24px\">\n",
              "    <path d=\"M0 0h24v24H0V0z\" fill=\"none\"/>\n",
              "    <path d=\"M18.56 5.44l.94 2.06.94-2.06 2.06-.94-2.06-.94-.94-2.06-.94 2.06-2.06.94zm-11 1L8.5 8.5l.94-2.06 2.06-.94-2.06-.94L8.5 2.5l-.94 2.06-2.06.94zm10 10l.94 2.06.94-2.06 2.06-.94-2.06-.94-.94-2.06-.94 2.06-2.06.94z\"/><path d=\"M17.41 7.96l-1.37-1.37c-.4-.4-.92-.59-1.43-.59-.52 0-1.04.2-1.43.59L10.3 9.45l-7.72 7.72c-.78.78-.78 2.05 0 2.83L4 21.41c.39.39.9.59 1.41.59.51 0 1.02-.2 1.41-.59l7.78-7.78 2.81-2.81c.8-.78.8-2.07 0-2.86zM5.41 20L4 18.59l7.72-7.72 1.47 1.35L5.41 20z\"/>\n",
              "  </svg>\n",
              "      </button>\n",
              "      \n",
              "  <style>\n",
              "    .colab-df-container {\n",
              "      display:flex;\n",
              "      flex-wrap:wrap;\n",
              "      gap: 12px;\n",
              "    }\n",
              "\n",
              "    .colab-df-convert {\n",
              "      background-color: #E8F0FE;\n",
              "      border: none;\n",
              "      border-radius: 50%;\n",
              "      cursor: pointer;\n",
              "      display: none;\n",
              "      fill: #1967D2;\n",
              "      height: 32px;\n",
              "      padding: 0 0 0 0;\n",
              "      width: 32px;\n",
              "    }\n",
              "\n",
              "    .colab-df-convert:hover {\n",
              "      background-color: #E2EBFA;\n",
              "      box-shadow: 0px 1px 2px rgba(60, 64, 67, 0.3), 0px 1px 3px 1px rgba(60, 64, 67, 0.15);\n",
              "      fill: #174EA6;\n",
              "    }\n",
              "\n",
              "    [theme=dark] .colab-df-convert {\n",
              "      background-color: #3B4455;\n",
              "      fill: #D2E3FC;\n",
              "    }\n",
              "\n",
              "    [theme=dark] .colab-df-convert:hover {\n",
              "      background-color: #434B5C;\n",
              "      box-shadow: 0px 1px 3px 1px rgba(0, 0, 0, 0.15);\n",
              "      filter: drop-shadow(0px 1px 2px rgba(0, 0, 0, 0.3));\n",
              "      fill: #FFFFFF;\n",
              "    }\n",
              "  </style>\n",
              "\n",
              "      <script>\n",
              "        const buttonEl =\n",
              "          document.querySelector('#df-c2de1e8c-3a43-4281-b4c0-5a38d2ebe09d button.colab-df-convert');\n",
              "        buttonEl.style.display =\n",
              "          google.colab.kernel.accessAllowed ? 'block' : 'none';\n",
              "\n",
              "        async function convertToInteractive(key) {\n",
              "          const element = document.querySelector('#df-c2de1e8c-3a43-4281-b4c0-5a38d2ebe09d');\n",
              "          const dataTable =\n",
              "            await google.colab.kernel.invokeFunction('convertToInteractive',\n",
              "                                                     [key], {});\n",
              "          if (!dataTable) return;\n",
              "\n",
              "          const docLinkHtml = 'Like what you see? Visit the ' +\n",
              "            '<a target=\"_blank\" href=https://colab.research.google.com/notebooks/data_table.ipynb>data table notebook</a>'\n",
              "            + ' to learn more about interactive tables.';\n",
              "          element.innerHTML = '';\n",
              "          dataTable['output_type'] = 'display_data';\n",
              "          await google.colab.output.renderOutput(dataTable, element);\n",
              "          const docLink = document.createElement('div');\n",
              "          docLink.innerHTML = docLinkHtml;\n",
              "          element.appendChild(docLink);\n",
              "        }\n",
              "      </script>\n",
              "    </div>\n",
              "  </div>\n",
              "  "
            ]
          },
          "metadata": {},
          "execution_count": 3
        }
      ]
    },
    {
      "cell_type": "code",
      "source": [
        "from sklearn.ensemble import GradientBoostingClassifier"
      ],
      "metadata": {
        "id": "yKU6681PGHpU"
      },
      "execution_count": null,
      "outputs": []
    },
    {
      "cell_type": "code",
      "source": [
        "y=data['conditions']\n",
        "x=data[['tempmax','tempmin','dew','humidity','precip','sealevelpressure']]\n",
        "x_train, x_test, y_train, y_test = model_selection.train_test_split(x, y,  test_size=0.50, random_state=101)# Or same in test_size=.25"
      ],
      "metadata": {
        "id": "Zce6unJFGzvH"
      },
      "execution_count": null,
      "outputs": []
    },
    {
      "cell_type": "code",
      "source": [
        "# from sklearn.preprocessing import OneHotEncoder\n",
        "# from sklearn import preprocessing\n",
        "# encoder = preprocessing.LabelEncoder()\n",
        "# encoder.fit(y_train)\n",
        "# y_train = encoder.transform(y_train)\n",
        "# # encoding test labels \n",
        "# encoder.fit(y_test)\n",
        "# y_test = encoder.transform(y_test)"
      ],
      "metadata": {
        "id": "3o2QWWRAM0zy"
      },
      "execution_count": null,
      "outputs": []
    },
    {
      "cell_type": "code",
      "source": [
        "model = GradientBoostingClassifier(n_estimators=100, learning_rate=.2,\n",
        "  max_depth=1, random_state=50)\n",
        "model.fit(x_train, y_train)\n",
        "model.score(x_test,y_test)"
      ],
      "metadata": {
        "colab": {
          "base_uri": "https://localhost:8080/"
        },
        "id": "5SfltfeVGs_e",
        "outputId": "b93c922c-f02b-4d99-b7a8-2a7bc785854c"
      },
      "execution_count": null,
      "outputs": [
        {
          "output_type": "execute_result",
          "data": {
            "text/plain": [
              "0.898989898989899"
            ]
          },
          "metadata": {},
          "execution_count": 98
        }
      ]
    },
    {
      "cell_type": "code",
      "source": [
        "model.predict(x_test)"
      ],
      "metadata": {
        "colab": {
          "base_uri": "https://localhost:8080/"
        },
        "id": "oeez9LMSK6SO",
        "outputId": "f528ad7d-a1fa-4293-eb84-83b05b7a0ea3"
      },
      "execution_count": null,
      "outputs": [
        {
          "output_type": "execute_result",
          "data": {
            "text/plain": [
              "array(['Clear', 'rainy', 'cloudy', 'cloudy', 'rainy', 'rainy', 'cloudy',\n",
              "       'Clear', 'rainy', 'cloudy', 'rainy', 'cloudy', 'Clear', 'rainy',\n",
              "       'rainy', 'rainy', 'Clear', 'cloudy', 'Clear', 'rainy', 'rainy',\n",
              "       'rainy', 'Clear', 'cloudy', 'rainy', 'cloudy', 'rainy', 'cloudy',\n",
              "       'cloudy', 'Clear', 'cloudy', 'Clear', 'cloudy', 'Clear', 'cloudy',\n",
              "       'rainy', 'rainy', 'cloudy', 'Clear', 'rainy', 'cloudy', 'cloudy',\n",
              "       'rainy', 'Clear', 'rainy', 'cloudy', 'rainy', 'rainy', 'cloudy',\n",
              "       'rainy', 'cloudy', 'Clear', 'cloudy', 'Clear', 'Clear', 'rainy',\n",
              "       'rainy', 'Clear', 'cloudy', 'Clear', 'rainy', 'cloudy', 'Clear',\n",
              "       'cloudy', 'cloudy', 'rainy', 'Clear', 'Clear', 'Clear', 'Clear',\n",
              "       'cloudy', 'rainy', 'rainy', 'rainy', 'rainy', 'Clear', 'rainy',\n",
              "       'rainy', 'rainy', 'Clear', 'rainy', 'cloudy', 'Clear', 'Clear',\n",
              "       'cloudy', 'cloudy', 'Clear', 'rainy', 'rainy', 'rainy', 'rainy',\n",
              "       'Clear', 'Clear', 'cloudy', 'cloudy', 'cloudy', 'Clear', 'rainy',\n",
              "       'rainy', 'cloudy', 'Clear', 'Clear', 'Clear', 'cloudy', 'Clear',\n",
              "       'Clear', 'cloudy', 'rainy', 'rainy', 'rainy', 'Clear', 'rainy',\n",
              "       'cloudy', 'Clear', 'rainy', 'cloudy', 'Clear', 'Clear', 'Clear',\n",
              "       'rainy', 'cloudy', 'cloudy', 'Clear', 'Clear', 'rainy', 'cloudy',\n",
              "       'Clear', 'cloudy', 'cloudy', 'cloudy', 'cloudy', 'rainy', 'rainy',\n",
              "       'cloudy', 'Clear', 'rainy', 'rainy', 'rainy', 'rainy', 'rainy',\n",
              "       'rainy', 'cloudy', 'rainy', 'rainy', 'Clear', 'rainy', 'cloudy',\n",
              "       'rainy', 'cloudy', 'rainy', 'Clear', 'rainy', 'cloudy', 'Clear',\n",
              "       'rainy', 'rainy', 'rainy', 'Clear', 'rainy', 'rainy', 'Clear',\n",
              "       'rainy', 'cloudy', 'cloudy', 'cloudy', 'cloudy', 'cloudy',\n",
              "       'cloudy', 'cloudy', 'cloudy', 'rainy', 'cloudy', 'Clear', 'rainy',\n",
              "       'cloudy', 'Clear', 'rainy', 'Clear', 'rainy', 'rainy', 'rainy',\n",
              "       'cloudy', 'rainy', 'rainy', 'rainy', 'cloudy', 'cloudy', 'Clear',\n",
              "       'cloudy', 'Clear', 'rainy', 'Clear', 'rainy', 'cloudy', 'rainy',\n",
              "       'rainy', 'cloudy', 'rainy'], dtype=object)"
            ]
          },
          "metadata": {},
          "execution_count": 99
        }
      ]
    },
    {
      "cell_type": "code",
      "source": [
        "from sklearn.metrics import classification_report\n",
        "print(classification_report(model.predict(x_test), y_test))"
      ],
      "metadata": {
        "colab": {
          "base_uri": "https://localhost:8080/"
        },
        "id": "mrM9VWUZK8pq",
        "outputId": "c7248ac2-169b-4502-8f73-da75d58d6115"
      },
      "execution_count": null,
      "outputs": [
        {
          "output_type": "stream",
          "name": "stdout",
          "text": [
            "              precision    recall  f1-score   support\n",
            "\n",
            "       Clear       0.84      0.78      0.81        54\n",
            "      cloudy       0.82      0.88      0.85        64\n",
            "       rainy       1.00      1.00      1.00        80\n",
            "\n",
            "    accuracy                           0.90       198\n",
            "   macro avg       0.89      0.88      0.89       198\n",
            "weighted avg       0.90      0.90      0.90       198\n",
            "\n"
          ]
        }
      ]
    }
  ]
}